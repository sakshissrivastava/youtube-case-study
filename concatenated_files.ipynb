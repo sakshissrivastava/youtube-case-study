{
 "cells": [
  {
   "cell_type": "markdown",
   "id": "cf152428",
   "metadata": {},
   "source": [
    "### Concatenating multiple csv files into a single DataFrame"
   ]
  },
  {
   "cell_type": "code",
   "execution_count": 48,
   "id": "6408054c",
   "metadata": {},
   "outputs": [],
   "source": [
    "import os\n",
    "import pandas as pd\n",
    "import warnings\n",
    "from warnings import filterwarnings\n",
    "filterwarnings('ignore')"
   ]
  },
  {
   "cell_type": "code",
   "execution_count": 5,
   "id": "ea8a6dfe",
   "metadata": {},
   "outputs": [],
   "source": [
    "files = os.listdir(r'C:\\Users\\saksh\\JupyterFolder\\youtube-case-study\\Dataset\\additional_data')"
   ]
  },
  {
   "cell_type": "code",
   "execution_count": 6,
   "id": "63f5113b",
   "metadata": {},
   "outputs": [
    {
     "data": {
      "text/plain": [
       "['CAvideos.csv',\n",
       " 'CA_category_id.json',\n",
       " 'DEvideos.csv',\n",
       " 'DE_category_id.json',\n",
       " 'FRvideos.csv',\n",
       " 'FR_category_id.json',\n",
       " 'GBvideos.csv',\n",
       " 'GB_category_id.json',\n",
       " 'INvideos.csv',\n",
       " 'IN_category_id.json',\n",
       " 'JPvideos.csv',\n",
       " 'JP_category_id.json',\n",
       " 'KRvideos.csv',\n",
       " 'KR_category_id.json',\n",
       " 'MXvideos.csv',\n",
       " 'MX_category_id.json',\n",
       " 'RUvideos.csv',\n",
       " 'RU_category_id.json',\n",
       " 'USvideos.csv',\n",
       " 'US_category_id.json']"
      ]
     },
     "execution_count": 6,
     "metadata": {},
     "output_type": "execute_result"
    }
   ],
   "source": [
    "files"
   ]
  },
  {
   "cell_type": "code",
   "execution_count": 12,
   "id": "9234f768",
   "metadata": {},
   "outputs": [],
   "source": [
    "files_csv = [file for file in files if '.csv' in file]"
   ]
  },
  {
   "cell_type": "code",
   "execution_count": 13,
   "id": "8d4b8cd8",
   "metadata": {},
   "outputs": [
    {
     "data": {
      "text/plain": [
       "['CAvideos.csv',\n",
       " 'DEvideos.csv',\n",
       " 'FRvideos.csv',\n",
       " 'GBvideos.csv',\n",
       " 'INvideos.csv',\n",
       " 'JPvideos.csv',\n",
       " 'KRvideos.csv',\n",
       " 'MXvideos.csv',\n",
       " 'RUvideos.csv',\n",
       " 'USvideos.csv']"
      ]
     },
     "execution_count": 13,
     "metadata": {},
     "output_type": "execute_result"
    }
   ],
   "source": [
    "files_csv"
   ]
  },
  {
   "cell_type": "code",
   "execution_count": 20,
   "id": "c57f146a",
   "metadata": {},
   "outputs": [],
   "source": [
    "all_files = pd.DataFrame()"
   ]
  },
  {
   "cell_type": "code",
   "execution_count": 21,
   "id": "b127e418",
   "metadata": {},
   "outputs": [],
   "source": [
    "path = r'C:\\Users\\saksh\\JupyterFolder\\youtube-case-study\\Dataset\\additional_data'\n",
    "\n",
    "for file in files_csv:\n",
    "    current_df = pd.read_csv(path+'/'+file, encoding= 'iso-8859-1', error_bad_lines=False)\n",
    "    all_files = pd.concat([all_files, current_df], ignore_index=True)"
   ]
  },
  {
   "cell_type": "code",
   "execution_count": 22,
   "id": "f8a5514d",
   "metadata": {},
   "outputs": [
    {
     "data": {
      "text/html": [
       "<div>\n",
       "<style scoped>\n",
       "    .dataframe tbody tr th:only-of-type {\n",
       "        vertical-align: middle;\n",
       "    }\n",
       "\n",
       "    .dataframe tbody tr th {\n",
       "        vertical-align: top;\n",
       "    }\n",
       "\n",
       "    .dataframe thead th {\n",
       "        text-align: right;\n",
       "    }\n",
       "</style>\n",
       "<table border=\"1\" class=\"dataframe\">\n",
       "  <thead>\n",
       "    <tr style=\"text-align: right;\">\n",
       "      <th></th>\n",
       "      <th>video_id</th>\n",
       "      <th>trending_date</th>\n",
       "      <th>title</th>\n",
       "      <th>channel_title</th>\n",
       "      <th>category_id</th>\n",
       "      <th>publish_time</th>\n",
       "      <th>tags</th>\n",
       "      <th>views</th>\n",
       "      <th>likes</th>\n",
       "      <th>dislikes</th>\n",
       "      <th>comment_count</th>\n",
       "      <th>thumbnail_link</th>\n",
       "      <th>comments_disabled</th>\n",
       "      <th>ratings_disabled</th>\n",
       "      <th>video_error_or_removed</th>\n",
       "      <th>description</th>\n",
       "    </tr>\n",
       "  </thead>\n",
       "  <tbody>\n",
       "    <tr>\n",
       "      <th>0</th>\n",
       "      <td>n1WpP7iowLc</td>\n",
       "      <td>17.14.11</td>\n",
       "      <td>Eminem - Walk On Water (Audio) ft. BeyoncÃ©</td>\n",
       "      <td>EminemVEVO</td>\n",
       "      <td>10</td>\n",
       "      <td>2017-11-10T17:00:03.000Z</td>\n",
       "      <td>Eminem|\"Walk\"|\"On\"|\"Water\"|\"Aftermath/Shady/In...</td>\n",
       "      <td>17158579</td>\n",
       "      <td>787425</td>\n",
       "      <td>43420</td>\n",
       "      <td>125882</td>\n",
       "      <td>https://i.ytimg.com/vi/n1WpP7iowLc/default.jpg</td>\n",
       "      <td>False</td>\n",
       "      <td>False</td>\n",
       "      <td>False</td>\n",
       "      <td>Eminem's new track Walk on Water ft. BeyoncÃ© ...</td>\n",
       "    </tr>\n",
       "    <tr>\n",
       "      <th>1</th>\n",
       "      <td>0dBIkQ4Mz1M</td>\n",
       "      <td>17.14.11</td>\n",
       "      <td>PLUSH - Bad Unboxing Fan Mail</td>\n",
       "      <td>iDubbbzTV</td>\n",
       "      <td>23</td>\n",
       "      <td>2017-11-13T17:00:00.000Z</td>\n",
       "      <td>plush|\"bad unboxing\"|\"unboxing\"|\"fan mail\"|\"id...</td>\n",
       "      <td>1014651</td>\n",
       "      <td>127794</td>\n",
       "      <td>1688</td>\n",
       "      <td>13030</td>\n",
       "      <td>https://i.ytimg.com/vi/0dBIkQ4Mz1M/default.jpg</td>\n",
       "      <td>False</td>\n",
       "      <td>False</td>\n",
       "      <td>False</td>\n",
       "      <td>STill got a lot of packages. Probably will las...</td>\n",
       "    </tr>\n",
       "    <tr>\n",
       "      <th>2</th>\n",
       "      <td>5qpjK5DgCt4</td>\n",
       "      <td>17.14.11</td>\n",
       "      <td>Racist Superman | Rudy Mancuso, King Bach &amp; Le...</td>\n",
       "      <td>Rudy Mancuso</td>\n",
       "      <td>23</td>\n",
       "      <td>2017-11-12T19:05:24.000Z</td>\n",
       "      <td>racist superman|\"rudy\"|\"mancuso\"|\"king\"|\"bach\"...</td>\n",
       "      <td>3191434</td>\n",
       "      <td>146035</td>\n",
       "      <td>5339</td>\n",
       "      <td>8181</td>\n",
       "      <td>https://i.ytimg.com/vi/5qpjK5DgCt4/default.jpg</td>\n",
       "      <td>False</td>\n",
       "      <td>False</td>\n",
       "      <td>False</td>\n",
       "      <td>WATCH MY PREVIOUS VIDEO â¶ \\n\\nSUBSCRIBE âº ...</td>\n",
       "    </tr>\n",
       "    <tr>\n",
       "      <th>3</th>\n",
       "      <td>d380meD0W0M</td>\n",
       "      <td>17.14.11</td>\n",
       "      <td>I Dare You: GOING BALD!?</td>\n",
       "      <td>nigahiga</td>\n",
       "      <td>24</td>\n",
       "      <td>2017-11-12T18:01:41.000Z</td>\n",
       "      <td>ryan|\"higa\"|\"higatv\"|\"nigahiga\"|\"i dare you\"|\"...</td>\n",
       "      <td>2095828</td>\n",
       "      <td>132239</td>\n",
       "      <td>1989</td>\n",
       "      <td>17518</td>\n",
       "      <td>https://i.ytimg.com/vi/d380meD0W0M/default.jpg</td>\n",
       "      <td>False</td>\n",
       "      <td>False</td>\n",
       "      <td>False</td>\n",
       "      <td>I know it's been a while since we did this sho...</td>\n",
       "    </tr>\n",
       "  </tbody>\n",
       "</table>\n",
       "</div>"
      ],
      "text/plain": [
       "      video_id trending_date  \\\n",
       "0  n1WpP7iowLc      17.14.11   \n",
       "1  0dBIkQ4Mz1M      17.14.11   \n",
       "2  5qpjK5DgCt4      17.14.11   \n",
       "3  d380meD0W0M      17.14.11   \n",
       "\n",
       "                                               title channel_title  \\\n",
       "0        Eminem - Walk On Water (Audio) ft. BeyoncÃ©    EminemVEVO   \n",
       "1                      PLUSH - Bad Unboxing Fan Mail     iDubbbzTV   \n",
       "2  Racist Superman | Rudy Mancuso, King Bach & Le...  Rudy Mancuso   \n",
       "3                           I Dare You: GOING BALD!?      nigahiga   \n",
       "\n",
       "   category_id              publish_time  \\\n",
       "0           10  2017-11-10T17:00:03.000Z   \n",
       "1           23  2017-11-13T17:00:00.000Z   \n",
       "2           23  2017-11-12T19:05:24.000Z   \n",
       "3           24  2017-11-12T18:01:41.000Z   \n",
       "\n",
       "                                                tags     views   likes  \\\n",
       "0  Eminem|\"Walk\"|\"On\"|\"Water\"|\"Aftermath/Shady/In...  17158579  787425   \n",
       "1  plush|\"bad unboxing\"|\"unboxing\"|\"fan mail\"|\"id...   1014651  127794   \n",
       "2  racist superman|\"rudy\"|\"mancuso\"|\"king\"|\"bach\"...   3191434  146035   \n",
       "3  ryan|\"higa\"|\"higatv\"|\"nigahiga\"|\"i dare you\"|\"...   2095828  132239   \n",
       "\n",
       "   dislikes  comment_count                                  thumbnail_link  \\\n",
       "0     43420         125882  https://i.ytimg.com/vi/n1WpP7iowLc/default.jpg   \n",
       "1      1688          13030  https://i.ytimg.com/vi/0dBIkQ4Mz1M/default.jpg   \n",
       "2      5339           8181  https://i.ytimg.com/vi/5qpjK5DgCt4/default.jpg   \n",
       "3      1989          17518  https://i.ytimg.com/vi/d380meD0W0M/default.jpg   \n",
       "\n",
       "   comments_disabled  ratings_disabled  video_error_or_removed  \\\n",
       "0              False             False                   False   \n",
       "1              False             False                   False   \n",
       "2              False             False                   False   \n",
       "3              False             False                   False   \n",
       "\n",
       "                                         description  \n",
       "0  Eminem's new track Walk on Water ft. BeyoncÃ© ...  \n",
       "1  STill got a lot of packages. Probably will las...  \n",
       "2  WATCH MY PREVIOUS VIDEO â¶ \\n\\nSUBSCRIBE âº ...  \n",
       "3  I know it's been a while since we did this sho...  "
      ]
     },
     "execution_count": 22,
     "metadata": {},
     "output_type": "execute_result"
    }
   ],
   "source": [
    "all_files.head(4)"
   ]
  },
  {
   "cell_type": "code",
   "execution_count": 24,
   "id": "b7b9413d",
   "metadata": {},
   "outputs": [
    {
     "data": {
      "text/plain": [
       "(375942, 16)"
      ]
     },
     "execution_count": 24,
     "metadata": {},
     "output_type": "execute_result"
    }
   ],
   "source": [
    "all_files.shape"
   ]
  },
  {
   "cell_type": "code",
   "execution_count": 26,
   "id": "89f6d037",
   "metadata": {},
   "outputs": [
    {
     "data": {
      "text/plain": [
       "0         False\n",
       "1         False\n",
       "2         False\n",
       "3         False\n",
       "4         False\n",
       "          ...  \n",
       "375937     True\n",
       "375938    False\n",
       "375939    False\n",
       "375940    False\n",
       "375941    False\n",
       "Length: 375942, dtype: bool"
      ]
     },
     "execution_count": 26,
     "metadata": {},
     "output_type": "execute_result"
    }
   ],
   "source": [
    "# removing duplicates\n",
    "all_files.duplicated(keep='first')"
   ]
  },
  {
   "cell_type": "code",
   "execution_count": 28,
   "id": "0a143c35",
   "metadata": {},
   "outputs": [],
   "source": [
    "all_files.drop_duplicates(ignore_index=True, inplace=True)"
   ]
  },
  {
   "cell_type": "code",
   "execution_count": 31,
   "id": "0d45d726",
   "metadata": {},
   "outputs": [
    {
     "data": {
      "text/plain": [
       "(339525, 16)"
      ]
     },
     "execution_count": 31,
     "metadata": {},
     "output_type": "execute_result"
    }
   ],
   "source": [
    "all_files.shape #dropped around 35k data"
   ]
  },
  {
   "cell_type": "code",
   "execution_count": 32,
   "id": "e5b52898",
   "metadata": {},
   "outputs": [
    {
     "name": "stdout",
     "output_type": "stream",
     "text": [
      "<class 'pandas.core.frame.DataFrame'>\n",
      "RangeIndex: 339525 entries, 0 to 339524\n",
      "Data columns (total 16 columns):\n",
      " #   Column                  Non-Null Count   Dtype \n",
      "---  ------                  --------------   ----- \n",
      " 0   video_id                339525 non-null  object\n",
      " 1   trending_date           339525 non-null  object\n",
      " 2   title                   339525 non-null  object\n",
      " 3   channel_title           339525 non-null  object\n",
      " 4   category_id             339525 non-null  int64 \n",
      " 5   publish_time            339525 non-null  object\n",
      " 6   tags                    339525 non-null  object\n",
      " 7   views                   339525 non-null  int64 \n",
      " 8   likes                   339525 non-null  int64 \n",
      " 9   dislikes                339525 non-null  int64 \n",
      " 10  comment_count           339525 non-null  int64 \n",
      " 11  thumbnail_link          339525 non-null  object\n",
      " 12  comments_disabled       339525 non-null  bool  \n",
      " 13  ratings_disabled        339525 non-null  bool  \n",
      " 14  video_error_or_removed  339525 non-null  bool  \n",
      " 15  description             321548 non-null  object\n",
      "dtypes: bool(3), int64(5), object(8)\n",
      "memory usage: 34.6+ MB\n"
     ]
    }
   ],
   "source": [
    "all_files.info()"
   ]
  },
  {
   "cell_type": "code",
   "execution_count": 33,
   "id": "659447b8",
   "metadata": {},
   "outputs": [],
   "source": [
    "all_files['description'].fillna('Description missing', inplace=True)"
   ]
  },
  {
   "cell_type": "code",
   "execution_count": 34,
   "id": "a949fa73",
   "metadata": {},
   "outputs": [
    {
     "name": "stdout",
     "output_type": "stream",
     "text": [
      "<class 'pandas.core.frame.DataFrame'>\n",
      "RangeIndex: 339525 entries, 0 to 339524\n",
      "Data columns (total 16 columns):\n",
      " #   Column                  Non-Null Count   Dtype \n",
      "---  ------                  --------------   ----- \n",
      " 0   video_id                339525 non-null  object\n",
      " 1   trending_date           339525 non-null  object\n",
      " 2   title                   339525 non-null  object\n",
      " 3   channel_title           339525 non-null  object\n",
      " 4   category_id             339525 non-null  int64 \n",
      " 5   publish_time            339525 non-null  object\n",
      " 6   tags                    339525 non-null  object\n",
      " 7   views                   339525 non-null  int64 \n",
      " 8   likes                   339525 non-null  int64 \n",
      " 9   dislikes                339525 non-null  int64 \n",
      " 10  comment_count           339525 non-null  int64 \n",
      " 11  thumbnail_link          339525 non-null  object\n",
      " 12  comments_disabled       339525 non-null  bool  \n",
      " 13  ratings_disabled        339525 non-null  bool  \n",
      " 14  video_error_or_removed  339525 non-null  bool  \n",
      " 15  description             339525 non-null  object\n",
      "dtypes: bool(3), int64(5), object(8)\n",
      "memory usage: 34.6+ MB\n"
     ]
    }
   ],
   "source": [
    "all_files.info()"
   ]
  },
  {
   "cell_type": "code",
   "execution_count": 36,
   "id": "62a61ad9",
   "metadata": {},
   "outputs": [],
   "source": [
    "#Coverting publish time to datetime format\n",
    "all_files[\"publish_time\"] = pd.to_datetime(all_files[\"publish_time\"])"
   ]
  },
  {
   "cell_type": "code",
   "execution_count": 37,
   "id": "5d484f21",
   "metadata": {},
   "outputs": [
    {
     "name": "stdout",
     "output_type": "stream",
     "text": [
      "<class 'pandas.core.frame.DataFrame'>\n",
      "RangeIndex: 339525 entries, 0 to 339524\n",
      "Data columns (total 16 columns):\n",
      " #   Column                  Non-Null Count   Dtype              \n",
      "---  ------                  --------------   -----              \n",
      " 0   video_id                339525 non-null  object             \n",
      " 1   trending_date           339525 non-null  object             \n",
      " 2   title                   339525 non-null  object             \n",
      " 3   channel_title           339525 non-null  object             \n",
      " 4   category_id             339525 non-null  int64              \n",
      " 5   publish_time            339525 non-null  datetime64[ns, UTC]\n",
      " 6   tags                    339525 non-null  object             \n",
      " 7   views                   339525 non-null  int64              \n",
      " 8   likes                   339525 non-null  int64              \n",
      " 9   dislikes                339525 non-null  int64              \n",
      " 10  comment_count           339525 non-null  int64              \n",
      " 11  thumbnail_link          339525 non-null  object             \n",
      " 12  comments_disabled       339525 non-null  bool               \n",
      " 13  ratings_disabled        339525 non-null  bool               \n",
      " 14  video_error_or_removed  339525 non-null  bool               \n",
      " 15  description             339525 non-null  object             \n",
      "dtypes: bool(3), datetime64[ns, UTC](1), int64(5), object(7)\n",
      "memory usage: 34.6+ MB\n"
     ]
    }
   ],
   "source": [
    "all_files.info()"
   ]
  },
  {
   "cell_type": "code",
   "execution_count": 38,
   "id": "ef4ad798",
   "metadata": {},
   "outputs": [
    {
     "data": {
      "text/html": [
       "<div>\n",
       "<style scoped>\n",
       "    .dataframe tbody tr th:only-of-type {\n",
       "        vertical-align: middle;\n",
       "    }\n",
       "\n",
       "    .dataframe tbody tr th {\n",
       "        vertical-align: top;\n",
       "    }\n",
       "\n",
       "    .dataframe thead th {\n",
       "        text-align: right;\n",
       "    }\n",
       "</style>\n",
       "<table border=\"1\" class=\"dataframe\">\n",
       "  <thead>\n",
       "    <tr style=\"text-align: right;\">\n",
       "      <th></th>\n",
       "      <th>video_id</th>\n",
       "      <th>trending_date</th>\n",
       "      <th>title</th>\n",
       "      <th>channel_title</th>\n",
       "      <th>category_id</th>\n",
       "      <th>publish_time</th>\n",
       "      <th>tags</th>\n",
       "      <th>views</th>\n",
       "      <th>likes</th>\n",
       "      <th>dislikes</th>\n",
       "      <th>comment_count</th>\n",
       "      <th>thumbnail_link</th>\n",
       "      <th>comments_disabled</th>\n",
       "      <th>ratings_disabled</th>\n",
       "      <th>video_error_or_removed</th>\n",
       "      <th>description</th>\n",
       "    </tr>\n",
       "  </thead>\n",
       "  <tbody>\n",
       "    <tr>\n",
       "      <th>0</th>\n",
       "      <td>n1WpP7iowLc</td>\n",
       "      <td>17.14.11</td>\n",
       "      <td>Eminem - Walk On Water (Audio) ft. BeyoncÃ©</td>\n",
       "      <td>EminemVEVO</td>\n",
       "      <td>10</td>\n",
       "      <td>2017-11-10 17:00:03+00:00</td>\n",
       "      <td>Eminem|\"Walk\"|\"On\"|\"Water\"|\"Aftermath/Shady/In...</td>\n",
       "      <td>17158579</td>\n",
       "      <td>787425</td>\n",
       "      <td>43420</td>\n",
       "      <td>125882</td>\n",
       "      <td>https://i.ytimg.com/vi/n1WpP7iowLc/default.jpg</td>\n",
       "      <td>False</td>\n",
       "      <td>False</td>\n",
       "      <td>False</td>\n",
       "      <td>Eminem's new track Walk on Water ft. BeyoncÃ© ...</td>\n",
       "    </tr>\n",
       "    <tr>\n",
       "      <th>1</th>\n",
       "      <td>0dBIkQ4Mz1M</td>\n",
       "      <td>17.14.11</td>\n",
       "      <td>PLUSH - Bad Unboxing Fan Mail</td>\n",
       "      <td>iDubbbzTV</td>\n",
       "      <td>23</td>\n",
       "      <td>2017-11-13 17:00:00+00:00</td>\n",
       "      <td>plush|\"bad unboxing\"|\"unboxing\"|\"fan mail\"|\"id...</td>\n",
       "      <td>1014651</td>\n",
       "      <td>127794</td>\n",
       "      <td>1688</td>\n",
       "      <td>13030</td>\n",
       "      <td>https://i.ytimg.com/vi/0dBIkQ4Mz1M/default.jpg</td>\n",
       "      <td>False</td>\n",
       "      <td>False</td>\n",
       "      <td>False</td>\n",
       "      <td>STill got a lot of packages. Probably will las...</td>\n",
       "    </tr>\n",
       "    <tr>\n",
       "      <th>2</th>\n",
       "      <td>5qpjK5DgCt4</td>\n",
       "      <td>17.14.11</td>\n",
       "      <td>Racist Superman | Rudy Mancuso, King Bach &amp; Le...</td>\n",
       "      <td>Rudy Mancuso</td>\n",
       "      <td>23</td>\n",
       "      <td>2017-11-12 19:05:24+00:00</td>\n",
       "      <td>racist superman|\"rudy\"|\"mancuso\"|\"king\"|\"bach\"...</td>\n",
       "      <td>3191434</td>\n",
       "      <td>146035</td>\n",
       "      <td>5339</td>\n",
       "      <td>8181</td>\n",
       "      <td>https://i.ytimg.com/vi/5qpjK5DgCt4/default.jpg</td>\n",
       "      <td>False</td>\n",
       "      <td>False</td>\n",
       "      <td>False</td>\n",
       "      <td>WATCH MY PREVIOUS VIDEO â¶ \\n\\nSUBSCRIBE âº ...</td>\n",
       "    </tr>\n",
       "    <tr>\n",
       "      <th>3</th>\n",
       "      <td>d380meD0W0M</td>\n",
       "      <td>17.14.11</td>\n",
       "      <td>I Dare You: GOING BALD!?</td>\n",
       "      <td>nigahiga</td>\n",
       "      <td>24</td>\n",
       "      <td>2017-11-12 18:01:41+00:00</td>\n",
       "      <td>ryan|\"higa\"|\"higatv\"|\"nigahiga\"|\"i dare you\"|\"...</td>\n",
       "      <td>2095828</td>\n",
       "      <td>132239</td>\n",
       "      <td>1989</td>\n",
       "      <td>17518</td>\n",
       "      <td>https://i.ytimg.com/vi/d380meD0W0M/default.jpg</td>\n",
       "      <td>False</td>\n",
       "      <td>False</td>\n",
       "      <td>False</td>\n",
       "      <td>I know it's been a while since we did this sho...</td>\n",
       "    </tr>\n",
       "  </tbody>\n",
       "</table>\n",
       "</div>"
      ],
      "text/plain": [
       "      video_id trending_date  \\\n",
       "0  n1WpP7iowLc      17.14.11   \n",
       "1  0dBIkQ4Mz1M      17.14.11   \n",
       "2  5qpjK5DgCt4      17.14.11   \n",
       "3  d380meD0W0M      17.14.11   \n",
       "\n",
       "                                               title channel_title  \\\n",
       "0        Eminem - Walk On Water (Audio) ft. BeyoncÃ©    EminemVEVO   \n",
       "1                      PLUSH - Bad Unboxing Fan Mail     iDubbbzTV   \n",
       "2  Racist Superman | Rudy Mancuso, King Bach & Le...  Rudy Mancuso   \n",
       "3                           I Dare You: GOING BALD!?      nigahiga   \n",
       "\n",
       "   category_id              publish_time  \\\n",
       "0           10 2017-11-10 17:00:03+00:00   \n",
       "1           23 2017-11-13 17:00:00+00:00   \n",
       "2           23 2017-11-12 19:05:24+00:00   \n",
       "3           24 2017-11-12 18:01:41+00:00   \n",
       "\n",
       "                                                tags     views   likes  \\\n",
       "0  Eminem|\"Walk\"|\"On\"|\"Water\"|\"Aftermath/Shady/In...  17158579  787425   \n",
       "1  plush|\"bad unboxing\"|\"unboxing\"|\"fan mail\"|\"id...   1014651  127794   \n",
       "2  racist superman|\"rudy\"|\"mancuso\"|\"king\"|\"bach\"...   3191434  146035   \n",
       "3  ryan|\"higa\"|\"higatv\"|\"nigahiga\"|\"i dare you\"|\"...   2095828  132239   \n",
       "\n",
       "   dislikes  comment_count                                  thumbnail_link  \\\n",
       "0     43420         125882  https://i.ytimg.com/vi/n1WpP7iowLc/default.jpg   \n",
       "1      1688          13030  https://i.ytimg.com/vi/0dBIkQ4Mz1M/default.jpg   \n",
       "2      5339           8181  https://i.ytimg.com/vi/5qpjK5DgCt4/default.jpg   \n",
       "3      1989          17518  https://i.ytimg.com/vi/d380meD0W0M/default.jpg   \n",
       "\n",
       "   comments_disabled  ratings_disabled  video_error_or_removed  \\\n",
       "0              False             False                   False   \n",
       "1              False             False                   False   \n",
       "2              False             False                   False   \n",
       "3              False             False                   False   \n",
       "\n",
       "                                         description  \n",
       "0  Eminem's new track Walk on Water ft. BeyoncÃ© ...  \n",
       "1  STill got a lot of packages. Probably will las...  \n",
       "2  WATCH MY PREVIOUS VIDEO â¶ \\n\\nSUBSCRIBE âº ...  \n",
       "3  I know it's been a while since we did this sho...  "
      ]
     },
     "execution_count": 38,
     "metadata": {},
     "output_type": "execute_result"
    }
   ],
   "source": [
    "all_files.head(4)"
   ]
  },
  {
   "cell_type": "markdown",
   "id": "36384535",
   "metadata": {},
   "source": [
    "### Exporting the combined DataFrame "
   ]
  },
  {
   "cell_type": "markdown",
   "id": "fb7e7d04",
   "metadata": {},
   "source": [
    "#### In .csv format"
   ]
  },
  {
   "cell_type": "code",
   "execution_count": 42,
   "id": "0c681885",
   "metadata": {},
   "outputs": [
    {
     "name": "stdout",
     "output_type": "stream",
     "text": [
      "19.4 s ± 162 ms per loop (mean ± std. dev. of 7 runs, 1 loop each)\n"
     ]
    }
   ],
   "source": [
    "%%timeit\n",
    "all_files.to_csv(r'C:\\Users\\saksh\\JupyterFolder\\youtube-case-study\\Dataset/youtube_all_regions.csv', index=False)"
   ]
  },
  {
   "cell_type": "code",
   "execution_count": 46,
   "id": "c96c81e9",
   "metadata": {},
   "outputs": [
    {
     "name": "stdout",
     "output_type": "stream",
     "text": [
      "60.3 ms ± 2.48 ms per loop (mean ± std. dev. of 7 runs, 10 loops each)\n"
     ]
    }
   ],
   "source": [
    "%%timeit\n",
    "all_files[:1000].to_csv(r'C:\\Users\\saksh\\JupyterFolder\\youtube-case-study\\Dataset/youtube_sample_all_regions1.csv',index=False)"
   ]
  },
  {
   "cell_type": "markdown",
   "id": "cdc14ddd",
   "metadata": {},
   "source": [
    "#### In .json format"
   ]
  },
  {
   "cell_type": "code",
   "execution_count": 48,
   "id": "1a141ed3",
   "metadata": {},
   "outputs": [
    {
     "name": "stdout",
     "output_type": "stream",
     "text": [
      "9.63 s ± 716 ms per loop (mean ± std. dev. of 7 runs, 1 loop each)\n"
     ]
    }
   ],
   "source": [
    "%%timeit\n",
    "all_files.to_json(r'C:\\Users\\saksh\\JupyterFolder\\youtube-case-study\\Dataset/youtube_json_all_regions1.json')"
   ]
  },
  {
   "cell_type": "markdown",
   "id": "e1868e25",
   "metadata": {},
   "source": [
    "#### To a database\n",
    "To export the data to the database, an engine needs to be created which establishes a connection with the database.\n",
    "A default USER table is created upon creating a database"
   ]
  },
  {
   "cell_type": "code",
   "execution_count": 49,
   "id": "a0e0d7c0",
   "metadata": {},
   "outputs": [],
   "source": [
    "from sqlalchemy import create_engine"
   ]
  },
  {
   "cell_type": "code",
   "execution_count": 50,
   "id": "95c47862",
   "metadata": {},
   "outputs": [],
   "source": [
    "engine= create_engine(r'sqlite:///C:\\Users\\saksh\\JupyterFolder\\youtube-case-study\\Dataset/youtube_db.sqlite')"
   ]
  },
  {
   "cell_type": "code",
   "execution_count": 51,
   "id": "7da0f183",
   "metadata": {},
   "outputs": [
    {
     "data": {
      "text/plain": [
       "339525"
      ]
     },
     "execution_count": 51,
     "metadata": {},
     "output_type": "execute_result"
    }
   ],
   "source": [
    "all_files.to_sql('Users', con =engine, if_exists='append')"
   ]
  },
  {
   "cell_type": "markdown",
   "id": "f2141d0d",
   "metadata": {},
   "source": [
    "###### 339525 entires are added to the Users table. Users is a dafault table generated while creating youtube_db.sqlite database"
   ]
  },
  {
   "cell_type": "markdown",
   "id": "14633df2",
   "metadata": {},
   "source": [
    "## Using AWS S3 Bucket to store and retrive files"
   ]
  },
  {
   "cell_type": "code",
   "execution_count": 16,
   "id": "cd98f67a",
   "metadata": {},
   "outputs": [],
   "source": [
    "s3.Bucket('dataset-bucket-ss-001').upload_file(Filename='Dataset/youtube_all_regions.csv', Key='youtube_all_regions.csv')"
   ]
  },
  {
   "cell_type": "code",
   "execution_count": 2,
   "id": "60b44e54",
   "metadata": {},
   "outputs": [],
   "source": [
    "import boto3"
   ]
  },
  {
   "cell_type": "code",
   "execution_count": 6,
   "id": "27ff6742",
   "metadata": {
    "scrolled": true
   },
   "outputs": [
    {
     "name": "stdout",
     "output_type": "stream",
     "text": [
      "dataset-bucket-ss-001\n"
     ]
    }
   ],
   "source": [
    "s3 = boto3.resource(\"s3\")\n",
    "\n",
    "# Print out bucket names\n",
    "for bucket in s3.buckets.all():\n",
    "    print(bucket.name)"
   ]
  },
  {
   "cell_type": "code",
   "execution_count": 9,
   "id": "753a18f8",
   "metadata": {
    "scrolled": false
   },
   "outputs": [
    {
     "name": "stdout",
     "output_type": "stream",
     "text": [
      "s3.ObjectSummary(bucket_name='dataset-bucket-ss-001', key='youtube-data-analysis/')\n",
      "s3.ObjectSummary(bucket_name='dataset-bucket-ss-001', key='youtube-data-analysis/UScomments.csv')\n",
      "s3.ObjectSummary(bucket_name='dataset-bucket-ss-001', key='youtube-data-analysis/additional data/')\n",
      "s3.ObjectSummary(bucket_name='dataset-bucket-ss-001', key='youtube-data-analysis/additional data/CA_category_id.json')\n",
      "s3.ObjectSummary(bucket_name='dataset-bucket-ss-001', key='youtube-data-analysis/additional data/CAvideos.csv')\n",
      "s3.ObjectSummary(bucket_name='dataset-bucket-ss-001', key='youtube-data-analysis/additional data/DE_category_id.json')\n",
      "s3.ObjectSummary(bucket_name='dataset-bucket-ss-001', key='youtube-data-analysis/additional data/DEvideos.csv')\n",
      "s3.ObjectSummary(bucket_name='dataset-bucket-ss-001', key='youtube-data-analysis/additional data/FR_category_id.json')\n",
      "s3.ObjectSummary(bucket_name='dataset-bucket-ss-001', key='youtube-data-analysis/additional data/FRvideos.csv')\n",
      "s3.ObjectSummary(bucket_name='dataset-bucket-ss-001', key='youtube-data-analysis/additional data/GB_category_id.json')\n",
      "s3.ObjectSummary(bucket_name='dataset-bucket-ss-001', key='youtube-data-analysis/additional data/GBvideos.csv')\n",
      "s3.ObjectSummary(bucket_name='dataset-bucket-ss-001', key='youtube-data-analysis/additional data/IN_category_id.json')\n",
      "s3.ObjectSummary(bucket_name='dataset-bucket-ss-001', key='youtube-data-analysis/additional data/INvideos.csv')\n",
      "s3.ObjectSummary(bucket_name='dataset-bucket-ss-001', key='youtube-data-analysis/additional data/JP_category_id.json')\n",
      "s3.ObjectSummary(bucket_name='dataset-bucket-ss-001', key='youtube-data-analysis/additional data/JPvideos.csv')\n",
      "s3.ObjectSummary(bucket_name='dataset-bucket-ss-001', key='youtube-data-analysis/additional data/KR_category_id.json')\n",
      "s3.ObjectSummary(bucket_name='dataset-bucket-ss-001', key='youtube-data-analysis/additional data/KRvideos.csv')\n",
      "s3.ObjectSummary(bucket_name='dataset-bucket-ss-001', key='youtube-data-analysis/additional data/MX_category_id.json')\n",
      "s3.ObjectSummary(bucket_name='dataset-bucket-ss-001', key='youtube-data-analysis/additional data/MXvideos.csv')\n",
      "s3.ObjectSummary(bucket_name='dataset-bucket-ss-001', key='youtube-data-analysis/additional data/RU_category_id.json')\n",
      "s3.ObjectSummary(bucket_name='dataset-bucket-ss-001', key='youtube-data-analysis/additional data/RUvideos.csv')\n",
      "s3.ObjectSummary(bucket_name='dataset-bucket-ss-001', key='youtube-data-analysis/additional data/US_category_id.json')\n",
      "s3.ObjectSummary(bucket_name='dataset-bucket-ss-001', key='youtube-data-analysis/additional data/USvideos.csv')\n"
     ]
    }
   ],
   "source": [
    "# Print out the objects stored in the bucket \"dataset-bucket-ss-001\"\n",
    "for obj in s3.Bucket(\"dataset-bucket-ss-001\").objects.all():\n",
    "    print(obj)"
   ]
  },
  {
   "cell_type": "code",
   "execution_count": 20,
   "id": "92904f3c",
   "metadata": {},
   "outputs": [
    {
     "data": {
      "text/plain": [
       "{'ResponseMetadata': {'RequestId': '14560AXMRRYQYAZ2',\n",
       "  'HostId': 'jTBVb99PMnZjn+Luf94VucTOrvyY0MY8bmR6HsDaAy3fAv2MRSQvQMypCADudAzW59nSh7H0N/s=',\n",
       "  'HTTPStatusCode': 200,\n",
       "  'HTTPHeaders': {'x-amz-id-2': 'jTBVb99PMnZjn+Luf94VucTOrvyY0MY8bmR6HsDaAy3fAv2MRSQvQMypCADudAzW59nSh7H0N/s=',\n",
       "   'x-amz-request-id': '14560AXMRRYQYAZ2',\n",
       "   'date': 'Tue, 20 Jun 2023 15:16:08 GMT',\n",
       "   'last-modified': 'Mon, 19 Jun 2023 13:00:22 GMT',\n",
       "   'etag': '\"fba89f05bd9be84fe91032f362800b8b-5\"',\n",
       "   'x-amz-server-side-encryption': 'AES256',\n",
       "   'accept-ranges': 'bytes',\n",
       "   'content-type': 'text/csv',\n",
       "   'server': 'AmazonS3',\n",
       "   'content-length': '72813993'},\n",
       "  'RetryAttempts': 0},\n",
       " 'AcceptRanges': 'bytes',\n",
       " 'LastModified': datetime.datetime(2023, 6, 19, 13, 0, 22, tzinfo=tzutc()),\n",
       " 'ContentLength': 72813993,\n",
       " 'ETag': '\"fba89f05bd9be84fe91032f362800b8b-5\"',\n",
       " 'ContentType': 'text/csv',\n",
       " 'ServerSideEncryption': 'AES256',\n",
       " 'Metadata': {},\n",
       " 'Body': <botocore.response.StreamingBody at 0x2436c6f4d30>}"
      ]
     },
     "execution_count": 20,
     "metadata": {},
     "output_type": "execute_result"
    }
   ],
   "source": [
    "# Finding the tag containing the data\n",
    "s3.Bucket(\"dataset-bucket-ss-001\").Object(\"youtube-data-analysis/UScomments.csv\").get()"
   ]
  },
  {
   "cell_type": "code",
   "execution_count": 32,
   "id": "d7ebae68",
   "metadata": {},
   "outputs": [],
   "source": [
    "obj1 = s3.Bucket(\"dataset-bucket-ss-001\").Object(\"youtube-data-analysis/UScomments.csv\").get()"
   ]
  },
  {
   "cell_type": "code",
   "execution_count": 33,
   "id": "f41340e9",
   "metadata": {},
   "outputs": [],
   "source": [
    "df1 = pd.read_csv(obj1['Body']._raw_stream, encoding= 'iso-8859-1', on_bad_lines='skip')"
   ]
  },
  {
   "cell_type": "code",
   "execution_count": 34,
   "id": "2ea80b23",
   "metadata": {},
   "outputs": [
    {
     "data": {
      "text/html": [
       "<div>\n",
       "<style scoped>\n",
       "    .dataframe tbody tr th:only-of-type {\n",
       "        vertical-align: middle;\n",
       "    }\n",
       "\n",
       "    .dataframe tbody tr th {\n",
       "        vertical-align: top;\n",
       "    }\n",
       "\n",
       "    .dataframe thead th {\n",
       "        text-align: right;\n",
       "    }\n",
       "</style>\n",
       "<table border=\"1\" class=\"dataframe\">\n",
       "  <thead>\n",
       "    <tr style=\"text-align: right;\">\n",
       "      <th></th>\n",
       "      <th>video_id</th>\n",
       "      <th>comment_text</th>\n",
       "      <th>likes</th>\n",
       "      <th>replies</th>\n",
       "    </tr>\n",
       "  </thead>\n",
       "  <tbody>\n",
       "    <tr>\n",
       "      <th>0</th>\n",
       "      <td>XpVt6Z1Gjjo</td>\n",
       "      <td>Logan Paul it's yo big day ‼️‼️‼️</td>\n",
       "      <td>4</td>\n",
       "      <td>0</td>\n",
       "    </tr>\n",
       "    <tr>\n",
       "      <th>1</th>\n",
       "      <td>XpVt6Z1Gjjo</td>\n",
       "      <td>I've been following you from the start of your...</td>\n",
       "      <td>3</td>\n",
       "      <td>0</td>\n",
       "    </tr>\n",
       "    <tr>\n",
       "      <th>2</th>\n",
       "      <td>XpVt6Z1Gjjo</td>\n",
       "      <td>Say hi to Kong and maverick for me</td>\n",
       "      <td>3</td>\n",
       "      <td>0</td>\n",
       "    </tr>\n",
       "    <tr>\n",
       "      <th>3</th>\n",
       "      <td>XpVt6Z1Gjjo</td>\n",
       "      <td>MY FAN . attendance</td>\n",
       "      <td>3</td>\n",
       "      <td>0</td>\n",
       "    </tr>\n",
       "    <tr>\n",
       "      <th>4</th>\n",
       "      <td>XpVt6Z1Gjjo</td>\n",
       "      <td>trending 😉</td>\n",
       "      <td>3</td>\n",
       "      <td>0</td>\n",
       "    </tr>\n",
       "  </tbody>\n",
       "</table>\n",
       "</div>"
      ],
      "text/plain": [
       "      video_id                                       comment_text likes  \\\n",
       "0  XpVt6Z1Gjjo                  Logan Paul it's yo big day ‼️‼️‼️     4   \n",
       "1  XpVt6Z1Gjjo  I've been following you from the start of your...     3   \n",
       "2  XpVt6Z1Gjjo                 Say hi to Kong and maverick for me     3   \n",
       "3  XpVt6Z1Gjjo                                MY FAN . attendance     3   \n",
       "4  XpVt6Z1Gjjo                                         trending 😉     3   \n",
       "\n",
       "  replies  \n",
       "0       0  \n",
       "1       0  \n",
       "2       0  \n",
       "3       0  \n",
       "4       0  "
      ]
     },
     "execution_count": 34,
     "metadata": {},
     "output_type": "execute_result"
    }
   ],
   "source": [
    "df1.head()"
   ]
  },
  {
   "cell_type": "code",
   "execution_count": 35,
   "id": "43bc5ebf",
   "metadata": {},
   "outputs": [
    {
     "name": "stdout",
     "output_type": "stream",
     "text": [
      "<class 'pandas.core.frame.DataFrame'>\n",
      "RangeIndex: 691400 entries, 0 to 691399\n",
      "Data columns (total 4 columns):\n",
      " #   Column        Non-Null Count   Dtype \n",
      "---  ------        --------------   ----- \n",
      " 0   video_id      691400 non-null  object\n",
      " 1   comment_text  691375 non-null  object\n",
      " 2   likes         691400 non-null  object\n",
      " 3   replies       691400 non-null  object\n",
      "dtypes: object(4)\n",
      "memory usage: 21.1+ MB\n"
     ]
    }
   ],
   "source": [
    "df1.info()"
   ]
  },
  {
   "cell_type": "code",
   "execution_count": 37,
   "id": "944ab76c",
   "metadata": {},
   "outputs": [],
   "source": [
    "files1= [obj.key for obj in s3.Bucket(\"dataset-bucket-ss-001\").objects.all()] #list of all the objects in the bucket"
   ]
  },
  {
   "cell_type": "code",
   "execution_count": 67,
   "id": "8d954cc3",
   "metadata": {},
   "outputs": [
    {
     "ename": "NameError",
     "evalue": "name 'files1' is not defined",
     "output_type": "error",
     "traceback": [
      "\u001b[1;31m---------------------------------------------------------------------------\u001b[0m",
      "\u001b[1;31mNameError\u001b[0m                                 Traceback (most recent call last)",
      "Cell \u001b[1;32mIn[67], line 1\u001b[0m\n\u001b[1;32m----> 1\u001b[0m csv_files1 \u001b[38;5;241m=\u001b[39m [file \u001b[38;5;28;01mfor\u001b[39;00m file \u001b[38;5;129;01min\u001b[39;00m \u001b[43mfiles1\u001b[49m \u001b[38;5;28;01mif\u001b[39;00m \u001b[38;5;124m'\u001b[39m\u001b[38;5;124m.csv\u001b[39m\u001b[38;5;124m'\u001b[39m \u001b[38;5;129;01min\u001b[39;00m file]\n",
      "\u001b[1;31mNameError\u001b[0m: name 'files1' is not defined"
     ]
    }
   ],
   "source": [
    "csv_files1 = [file for file in files1 if '.csv' in file] #list of all the files with .csv as the extension"
   ]
  },
  {
   "cell_type": "code",
   "execution_count": 39,
   "id": "71a7dd18",
   "metadata": {},
   "outputs": [
    {
     "data": {
      "text/plain": [
       "['youtube-data-analysis/UScomments.csv',\n",
       " 'youtube-data-analysis/additional data/CAvideos.csv',\n",
       " 'youtube-data-analysis/additional data/DEvideos.csv',\n",
       " 'youtube-data-analysis/additional data/FRvideos.csv',\n",
       " 'youtube-data-analysis/additional data/GBvideos.csv',\n",
       " 'youtube-data-analysis/additional data/INvideos.csv',\n",
       " 'youtube-data-analysis/additional data/JPvideos.csv',\n",
       " 'youtube-data-analysis/additional data/KRvideos.csv',\n",
       " 'youtube-data-analysis/additional data/MXvideos.csv',\n",
       " 'youtube-data-analysis/additional data/RUvideos.csv',\n",
       " 'youtube-data-analysis/additional data/USvideos.csv',\n",
       " 'youtube_all_regions.csv']"
      ]
     },
     "execution_count": 39,
     "metadata": {},
     "output_type": "execute_result"
    }
   ],
   "source": [
    "csv_files1"
   ]
  },
  {
   "cell_type": "code",
   "execution_count": 42,
   "id": "8a75f97d",
   "metadata": {},
   "outputs": [],
   "source": [
    "unwanted= [0,-1]\n",
    "for ele in unwanted:\n",
    "    del csv_files1[ele]"
   ]
  },
  {
   "cell_type": "code",
   "execution_count": 43,
   "id": "6d4fa8a8",
   "metadata": {},
   "outputs": [
    {
     "data": {
      "text/plain": [
       "['youtube-data-analysis/additional data/CAvideos.csv',\n",
       " 'youtube-data-analysis/additional data/DEvideos.csv',\n",
       " 'youtube-data-analysis/additional data/FRvideos.csv',\n",
       " 'youtube-data-analysis/additional data/GBvideos.csv',\n",
       " 'youtube-data-analysis/additional data/INvideos.csv',\n",
       " 'youtube-data-analysis/additional data/JPvideos.csv',\n",
       " 'youtube-data-analysis/additional data/KRvideos.csv',\n",
       " 'youtube-data-analysis/additional data/MXvideos.csv',\n",
       " 'youtube-data-analysis/additional data/RUvideos.csv',\n",
       " 'youtube-data-analysis/additional data/USvideos.csv']"
      ]
     },
     "execution_count": 43,
     "metadata": {},
     "output_type": "execute_result"
    }
   ],
   "source": [
    "csv_files1"
   ]
  },
  {
   "cell_type": "code",
   "execution_count": 45,
   "id": "5499287d",
   "metadata": {},
   "outputs": [],
   "source": [
    "all_files_aws = pd.DataFrame()"
   ]
  },
  {
   "cell_type": "code",
   "execution_count": 66,
   "id": "23548863",
   "metadata": {},
   "outputs": [],
   "source": [
    "import chardet"
   ]
  },
  {
   "cell_type": "code",
   "execution_count": null,
   "id": "34a9b0e3",
   "metadata": {},
   "outputs": [],
   "source": [
    "for file in csv_files:\n",
    "    obj2 = s3.Bucket(\"dataset-bucket-ss-001\").Object(file).get()\n",
    "    current_df_aws = pd.read_csv(obj2['Body']._raw_stream, encoding= 'iso-8859-1', on_bad_lines='skip')\n",
    "    all_files_aws = pd.concat([all_files_aws, current_df_aws], ignore_index=True)"
   ]
  },
  {
   "cell_type": "code",
   "execution_count": 32,
   "id": "b740c871",
   "metadata": {},
   "outputs": [],
   "source": [
    "import csv\n",
    "import json\n",
    "import io"
   ]
  },
  {
   "cell_type": "code",
   "execution_count": 63,
   "id": "4495b8c6",
   "metadata": {},
   "outputs": [],
   "source": [
    "# Set up the S3 client\n",
    "s3_new = boto3.client('s3')\n",
    "\n",
    "# Define the bucket name and folder path\n",
    "bucket_name = 'dataset-bucket-ss-001'\n",
    "folder_path = 'youtube-data-analysis/additional data/'\n",
    "\n",
    "# List all objects in the specified bucket and folder\n",
    "response = s3_new.list_objects_v2(Bucket=bucket_name, Prefix=folder_path)\n",
    "\n",
    "# Iterate over the objects and retrieve CSV files\n",
    "csv_files = []\n",
    "for obj in response['Contents']:\n",
    "    key = obj['Key']\n",
    "    if key.endswith('.csv'):\n",
    "        csv_files.append(key)\n",
    "\n",
    "dfs = []\n",
    "for file in csv_files:\n",
    "    obj = s3_new.get_object(Bucket=bucket_name, Key=file)\n",
    "    body = obj['Body'].read()\n",
    "    encoding = 'utf-8'  # Try decoding with UTF-8\n",
    "    try:\n",
    "        body = body.decode(encoding)\n",
    "    except UnicodeDecodeError:\n",
    "        encoding = 'latin-1'  # If UTF-8 fails, try decoding with Latin-1\n",
    "        body = body.decode(encoding)\n",
    "    df = pd.read_csv(io.StringIO(body))  # Use StringIO to read the decoded body as CSV\n",
    "    dfs.append(df)\n",
    "\n",
    "# Concatenate all dataframes into a single dataframe\n",
    "concatenated_df = pd.concat(dfs)\n",
    "\n",
    "# Save the concatenated dataframe to a new CSV file\n",
    "concatenated_df.to_csv('concatenated_data.csv', index=False)"
   ]
  },
  {
   "cell_type": "code",
   "execution_count": 64,
   "id": "650d6758",
   "metadata": {},
   "outputs": [],
   "source": [
    "concat_data_new = pd.read_csv('concatenated_data.csv', on_bad_lines='skip')"
   ]
  },
  {
   "cell_type": "code",
   "execution_count": 65,
   "id": "9ac068f2",
   "metadata": {},
   "outputs": [
    {
     "name": "stdout",
     "output_type": "stream",
     "text": [
      "<class 'pandas.core.frame.DataFrame'>\n",
      "RangeIndex: 375942 entries, 0 to 375941\n",
      "Data columns (total 16 columns):\n",
      " #   Column                  Non-Null Count   Dtype \n",
      "---  ------                  --------------   ----- \n",
      " 0   video_id                375942 non-null  object\n",
      " 1   trending_date           375942 non-null  object\n",
      " 2   title                   375942 non-null  object\n",
      " 3   channel_title           375942 non-null  object\n",
      " 4   category_id             375942 non-null  int64 \n",
      " 5   publish_time            375942 non-null  object\n",
      " 6   tags                    375942 non-null  object\n",
      " 7   views                   375942 non-null  int64 \n",
      " 8   likes                   375942 non-null  int64 \n",
      " 9   dislikes                375942 non-null  int64 \n",
      " 10  comment_count           375942 non-null  int64 \n",
      " 11  thumbnail_link          375942 non-null  object\n",
      " 12  comments_disabled       375942 non-null  bool  \n",
      " 13  ratings_disabled        375942 non-null  bool  \n",
      " 14  video_error_or_removed  375942 non-null  bool  \n",
      " 15  description             356464 non-null  object\n",
      "dtypes: bool(3), int64(5), object(8)\n",
      "memory usage: 38.4+ MB\n"
     ]
    }
   ],
   "source": [
    "concat_data_new.info()"
   ]
  },
  {
   "cell_type": "code",
   "execution_count": 66,
   "id": "adb293b6",
   "metadata": {},
   "outputs": [
    {
     "data": {
      "text/html": [
       "<div>\n",
       "<style scoped>\n",
       "    .dataframe tbody tr th:only-of-type {\n",
       "        vertical-align: middle;\n",
       "    }\n",
       "\n",
       "    .dataframe tbody tr th {\n",
       "        vertical-align: top;\n",
       "    }\n",
       "\n",
       "    .dataframe thead th {\n",
       "        text-align: right;\n",
       "    }\n",
       "</style>\n",
       "<table border=\"1\" class=\"dataframe\">\n",
       "  <thead>\n",
       "    <tr style=\"text-align: right;\">\n",
       "      <th></th>\n",
       "      <th>video_id</th>\n",
       "      <th>trending_date</th>\n",
       "      <th>title</th>\n",
       "      <th>channel_title</th>\n",
       "      <th>category_id</th>\n",
       "      <th>publish_time</th>\n",
       "      <th>tags</th>\n",
       "      <th>views</th>\n",
       "      <th>likes</th>\n",
       "      <th>dislikes</th>\n",
       "      <th>comment_count</th>\n",
       "      <th>thumbnail_link</th>\n",
       "      <th>comments_disabled</th>\n",
       "      <th>ratings_disabled</th>\n",
       "      <th>video_error_or_removed</th>\n",
       "      <th>description</th>\n",
       "    </tr>\n",
       "  </thead>\n",
       "  <tbody>\n",
       "    <tr>\n",
       "      <th>0</th>\n",
       "      <td>n1WpP7iowLc</td>\n",
       "      <td>17.14.11</td>\n",
       "      <td>Eminem - Walk On Water (Audio) ft. Beyoncé</td>\n",
       "      <td>EminemVEVO</td>\n",
       "      <td>10</td>\n",
       "      <td>2017-11-10T17:00:03.000Z</td>\n",
       "      <td>Eminem|\"Walk\"|\"On\"|\"Water\"|\"Aftermath/Shady/In...</td>\n",
       "      <td>17158579</td>\n",
       "      <td>787425</td>\n",
       "      <td>43420</td>\n",
       "      <td>125882</td>\n",
       "      <td>https://i.ytimg.com/vi/n1WpP7iowLc/default.jpg</td>\n",
       "      <td>False</td>\n",
       "      <td>False</td>\n",
       "      <td>False</td>\n",
       "      <td>Eminem's new track Walk on Water ft. Beyoncé i...</td>\n",
       "    </tr>\n",
       "    <tr>\n",
       "      <th>1</th>\n",
       "      <td>0dBIkQ4Mz1M</td>\n",
       "      <td>17.14.11</td>\n",
       "      <td>PLUSH - Bad Unboxing Fan Mail</td>\n",
       "      <td>iDubbbzTV</td>\n",
       "      <td>23</td>\n",
       "      <td>2017-11-13T17:00:00.000Z</td>\n",
       "      <td>plush|\"bad unboxing\"|\"unboxing\"|\"fan mail\"|\"id...</td>\n",
       "      <td>1014651</td>\n",
       "      <td>127794</td>\n",
       "      <td>1688</td>\n",
       "      <td>13030</td>\n",
       "      <td>https://i.ytimg.com/vi/0dBIkQ4Mz1M/default.jpg</td>\n",
       "      <td>False</td>\n",
       "      <td>False</td>\n",
       "      <td>False</td>\n",
       "      <td>STill got a lot of packages. Probably will las...</td>\n",
       "    </tr>\n",
       "    <tr>\n",
       "      <th>2</th>\n",
       "      <td>5qpjK5DgCt4</td>\n",
       "      <td>17.14.11</td>\n",
       "      <td>Racist Superman | Rudy Mancuso, King Bach &amp; Le...</td>\n",
       "      <td>Rudy Mancuso</td>\n",
       "      <td>23</td>\n",
       "      <td>2017-11-12T19:05:24.000Z</td>\n",
       "      <td>racist superman|\"rudy\"|\"mancuso\"|\"king\"|\"bach\"...</td>\n",
       "      <td>3191434</td>\n",
       "      <td>146035</td>\n",
       "      <td>5339</td>\n",
       "      <td>8181</td>\n",
       "      <td>https://i.ytimg.com/vi/5qpjK5DgCt4/default.jpg</td>\n",
       "      <td>False</td>\n",
       "      <td>False</td>\n",
       "      <td>False</td>\n",
       "      <td>WATCH MY PREVIOUS VIDEO ▶ \\n\\nSUBSCRIBE ► http...</td>\n",
       "    </tr>\n",
       "    <tr>\n",
       "      <th>3</th>\n",
       "      <td>d380meD0W0M</td>\n",
       "      <td>17.14.11</td>\n",
       "      <td>I Dare You: GOING BALD!?</td>\n",
       "      <td>nigahiga</td>\n",
       "      <td>24</td>\n",
       "      <td>2017-11-12T18:01:41.000Z</td>\n",
       "      <td>ryan|\"higa\"|\"higatv\"|\"nigahiga\"|\"i dare you\"|\"...</td>\n",
       "      <td>2095828</td>\n",
       "      <td>132239</td>\n",
       "      <td>1989</td>\n",
       "      <td>17518</td>\n",
       "      <td>https://i.ytimg.com/vi/d380meD0W0M/default.jpg</td>\n",
       "      <td>False</td>\n",
       "      <td>False</td>\n",
       "      <td>False</td>\n",
       "      <td>I know it's been a while since we did this sho...</td>\n",
       "    </tr>\n",
       "    <tr>\n",
       "      <th>4</th>\n",
       "      <td>2Vv-BfVoq4g</td>\n",
       "      <td>17.14.11</td>\n",
       "      <td>Ed Sheeran - Perfect (Official Music Video)</td>\n",
       "      <td>Ed Sheeran</td>\n",
       "      <td>10</td>\n",
       "      <td>2017-11-09T11:04:14.000Z</td>\n",
       "      <td>edsheeran|\"ed sheeran\"|\"acoustic\"|\"live\"|\"cove...</td>\n",
       "      <td>33523622</td>\n",
       "      <td>1634130</td>\n",
       "      <td>21082</td>\n",
       "      <td>85067</td>\n",
       "      <td>https://i.ytimg.com/vi/2Vv-BfVoq4g/default.jpg</td>\n",
       "      <td>False</td>\n",
       "      <td>False</td>\n",
       "      <td>False</td>\n",
       "      <td>🎧: https://ad.gt/yt-perfect\\n💰: https://atlant...</td>\n",
       "    </tr>\n",
       "  </tbody>\n",
       "</table>\n",
       "</div>"
      ],
      "text/plain": [
       "      video_id trending_date  \\\n",
       "0  n1WpP7iowLc      17.14.11   \n",
       "1  0dBIkQ4Mz1M      17.14.11   \n",
       "2  5qpjK5DgCt4      17.14.11   \n",
       "3  d380meD0W0M      17.14.11   \n",
       "4  2Vv-BfVoq4g      17.14.11   \n",
       "\n",
       "                                               title channel_title  \\\n",
       "0         Eminem - Walk On Water (Audio) ft. Beyoncé    EminemVEVO   \n",
       "1                      PLUSH - Bad Unboxing Fan Mail     iDubbbzTV   \n",
       "2  Racist Superman | Rudy Mancuso, King Bach & Le...  Rudy Mancuso   \n",
       "3                           I Dare You: GOING BALD!?      nigahiga   \n",
       "4        Ed Sheeran - Perfect (Official Music Video)    Ed Sheeran   \n",
       "\n",
       "   category_id              publish_time  \\\n",
       "0           10  2017-11-10T17:00:03.000Z   \n",
       "1           23  2017-11-13T17:00:00.000Z   \n",
       "2           23  2017-11-12T19:05:24.000Z   \n",
       "3           24  2017-11-12T18:01:41.000Z   \n",
       "4           10  2017-11-09T11:04:14.000Z   \n",
       "\n",
       "                                                tags     views    likes  \\\n",
       "0  Eminem|\"Walk\"|\"On\"|\"Water\"|\"Aftermath/Shady/In...  17158579   787425   \n",
       "1  plush|\"bad unboxing\"|\"unboxing\"|\"fan mail\"|\"id...   1014651   127794   \n",
       "2  racist superman|\"rudy\"|\"mancuso\"|\"king\"|\"bach\"...   3191434   146035   \n",
       "3  ryan|\"higa\"|\"higatv\"|\"nigahiga\"|\"i dare you\"|\"...   2095828   132239   \n",
       "4  edsheeran|\"ed sheeran\"|\"acoustic\"|\"live\"|\"cove...  33523622  1634130   \n",
       "\n",
       "   dislikes  comment_count                                  thumbnail_link  \\\n",
       "0     43420         125882  https://i.ytimg.com/vi/n1WpP7iowLc/default.jpg   \n",
       "1      1688          13030  https://i.ytimg.com/vi/0dBIkQ4Mz1M/default.jpg   \n",
       "2      5339           8181  https://i.ytimg.com/vi/5qpjK5DgCt4/default.jpg   \n",
       "3      1989          17518  https://i.ytimg.com/vi/d380meD0W0M/default.jpg   \n",
       "4     21082          85067  https://i.ytimg.com/vi/2Vv-BfVoq4g/default.jpg   \n",
       "\n",
       "   comments_disabled  ratings_disabled  video_error_or_removed  \\\n",
       "0              False             False                   False   \n",
       "1              False             False                   False   \n",
       "2              False             False                   False   \n",
       "3              False             False                   False   \n",
       "4              False             False                   False   \n",
       "\n",
       "                                         description  \n",
       "0  Eminem's new track Walk on Water ft. Beyoncé i...  \n",
       "1  STill got a lot of packages. Probably will las...  \n",
       "2  WATCH MY PREVIOUS VIDEO ▶ \\n\\nSUBSCRIBE ► http...  \n",
       "3  I know it's been a while since we did this sho...  \n",
       "4  🎧: https://ad.gt/yt-perfect\\n💰: https://atlant...  "
      ]
     },
     "execution_count": 66,
     "metadata": {},
     "output_type": "execute_result"
    }
   ],
   "source": [
    "concat_data_new.head()"
   ]
  },
  {
   "cell_type": "code",
   "execution_count": 68,
   "id": "b67eca6c",
   "metadata": {},
   "outputs": [
    {
     "data": {
      "text/plain": [
       "['youtube-data-analysis/additional data/CAvideos.csv',\n",
       " 'youtube-data-analysis/additional data/DEvideos.csv',\n",
       " 'youtube-data-analysis/additional data/FRvideos.csv',\n",
       " 'youtube-data-analysis/additional data/GBvideos.csv',\n",
       " 'youtube-data-analysis/additional data/INvideos.csv',\n",
       " 'youtube-data-analysis/additional data/JPvideos.csv',\n",
       " 'youtube-data-analysis/additional data/KRvideos.csv',\n",
       " 'youtube-data-analysis/additional data/MXvideos.csv',\n",
       " 'youtube-data-analysis/additional data/RUvideos.csv',\n",
       " 'youtube-data-analysis/additional data/USvideos.csv']"
      ]
     },
     "execution_count": 68,
     "metadata": {},
     "output_type": "execute_result"
    }
   ],
   "source": [
    "csv_files"
   ]
  },
  {
   "cell_type": "code",
   "execution_count": null,
   "id": "d218ad72",
   "metadata": {},
   "outputs": [],
   "source": []
  }
 ],
 "metadata": {
  "kernelspec": {
   "display_name": "Python 3 (ipykernel)",
   "language": "python",
   "name": "python3"
  },
  "language_info": {
   "codemirror_mode": {
    "name": "ipython",
    "version": 3
   },
   "file_extension": ".py",
   "mimetype": "text/x-python",
   "name": "python",
   "nbconvert_exporter": "python",
   "pygments_lexer": "ipython3",
   "version": "3.10.9"
  }
 },
 "nbformat": 4,
 "nbformat_minor": 5
}
